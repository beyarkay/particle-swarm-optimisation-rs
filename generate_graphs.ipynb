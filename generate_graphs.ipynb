{
 "cells": [
  {
   "cell_type": "code",
   "execution_count": null,
   "id": "9ba81c26",
   "metadata": {},
   "outputs": [],
   "source": [
    "# !pip3 install pandas numpy matplotlib seaborn\n",
    "import pandas as pd\n",
    "import matplotlib.pyplot as plt\n",
    "import numpy as np\n",
    "import seaborn as sns\n",
    "import datetime\n",
    "import scipy"
   ]
  },
  {
   "cell_type": "code",
   "execution_count": null,
   "id": "a48e2e30",
   "metadata": {},
   "outputs": [],
   "source": [
    "sns.set()"
   ]
  },
  {
   "cell_type": "markdown",
   "id": "65252a47",
   "metadata": {},
   "source": [
    "# Preprocess"
   ]
  },
  {
   "cell_type": "code",
   "execution_count": null,
   "id": "d254df87",
   "metadata": {
    "scrolled": true
   },
   "outputs": [],
   "source": [
    "stdpso = pd.read_csv(f'data/raw/std_pso_{datetime.date.today()}.csv')\n",
    "stdpso = stdpso[~stdpso.benchmark.isin([\n",
    "#     'Deb 3 Function',\n",
    "#     'Generalized Price 2 Function',\n",
    "#     'Mishra 7 Function',\n",
    "#     'Mishra 1 Function',\n",
    "#     'Generalized Paviani Function',\n",
    "])]\n",
    "\n",
    "# Calculate standardised gbest \\in [0, 1]\n",
    "# min_gbest = stdpso.groupby(['benchmark', 'rep_num'])['gbest_fit'].transform('min')\n",
    "# max_gbest = stdpso.groupby(['benchmark', 'rep_num'])['gbest_fit'].transform('max')\n",
    "# range_gbest = max_gbest - min_gbest\n",
    "# stdpso['norm_gbest'] = (stdpso['gbest_fit'] - min_gbest).div(range_gbest)\n",
    "\n",
    "# Calculate log10_standardised_gbest\n",
    "# stdpso['log10_norm_gbest'] = np.log10(stdpso['norm_gbest'])\n",
    "\n",
    "responses = ['gbest_fit'] # , 'gdiversity', 'perc_oob', 'norm_gbest', 'log10_norm_gbest'\n",
    "summ = stdpso.groupby(['benchmark', 'iter_num'])[responses] \\\n",
    "        .describe() \\\n",
    "        .loc[:,(slice(None),['mean', 'std', 'min', '50%', 'max'])] \\\n",
    "        .reset_index()\n",
    "for multi_col in summ.columns:\n",
    "    if multi_col[0] in responses:\n",
    "        summ[(multi_col[0], 'mean_less_std')] = summ[(multi_col[0], 'mean')] - summ[(multi_col[0], 'std')] \n",
    "        summ[(multi_col[0], 'mean_plus_std')] = summ[(multi_col[0], 'mean')] + summ[(multi_col[0], 'std')] \n",
    "summ = summ.reindex(columns=sorted(summ.columns))\n",
    "summ"
   ]
  },
  {
   "cell_type": "markdown",
   "id": "4caa7a39",
   "metadata": {},
   "source": [
    "Full data"
   ]
  },
  {
   "cell_type": "code",
   "execution_count": null,
   "id": "4cc2a06a",
   "metadata": {
    "scrolled": true
   },
   "outputs": [],
   "source": [
    "g = sns.FacetGrid(\n",
    "    data=stdpso,\n",
    "    col=\"benchmark\", \n",
    "    col_wrap=3,\n",
    "    height=3.5, \n",
    "    aspect=1.5,\n",
    "    sharey=False,\n",
    "#     palette=\"flare\",\n",
    ")\n",
    "y = 'gbest_fit'\n",
    "g.map_dataframe(\n",
    "    sns.lineplot,\n",
    "    x=\"iter_num\",\n",
    "    y=y,\n",
    "#     estimator=None,\n",
    "#     units='rep_num',\n",
    "#     ci=None\n",
    ")\n",
    "g.add_legend()\n",
    "g.set_titles(\n",
    "    col_template=\"{col_name}\", \n",
    "#     row_template=\"{row_name}\"\n",
    ")\n",
    "g.set_axis_labels(\"Iteration Number\", f\"{y.replace('_', ' ').title()}\")\n",
    "# plt.savefig('../report/figs/gbest_fitness_standard_pso.pdf')"
   ]
  },
  {
   "cell_type": "markdown",
   "id": "cb3428f7",
   "metadata": {},
   "source": [
    "Partial data"
   ]
  },
  {
   "cell_type": "markdown",
   "id": "297fcb65",
   "metadata": {},
   "source": [
    "# Optimise Control Parameters per Benchmark"
   ]
  },
  {
   "cell_type": "code",
   "execution_count": null,
   "id": "41588295",
   "metadata": {
    "scrolled": true
   },
   "outputs": [],
   "source": [
    "opt = pd.read_csv(f'data/raw/opt_{datetime.date.today()}.csv')\n",
    "opt = opt[~opt.benchmark.isin([\n",
    "    'Deb 3 Function',\n",
    "    'Generalized Price 2 Function',\n",
    "    'Mishra 7 Function',\n",
    "#     'Mishra 1 Function',\n",
    "    'Generalized Paviani Function',\n",
    "])]\n",
    "\n",
    "opt['c'] = np.round(opt['c1'] + opt['c2'], 4)\n",
    "opt['w'] = np.round(opt['w'], 4)"
   ]
  },
  {
   "cell_type": "markdown",
   "id": "cb800bc1",
   "metadata": {},
   "source": [
    "## Heatmaps of Control Params"
   ]
  },
  {
   "cell_type": "code",
   "execution_count": null,
   "id": "6b09cf07",
   "metadata": {
    "scrolled": true
   },
   "outputs": [],
   "source": [
    "opt_gb = opt[opt.iter_num == 4900].groupby(['benchmark', 'w', 'c'])['gbest_fit'].std().sort_values().reset_index()\n",
    "opt_gb['log_gbest'] = np.log10(opt_gb['gbest_fit'])\n",
    "# opt_gb"
   ]
  },
  {
   "cell_type": "code",
   "execution_count": null,
   "id": "063e3376",
   "metadata": {
    "scrolled": false
   },
   "outputs": [],
   "source": [
    "def draw_heatmap(*args, **kwargs):\n",
    "    data = kwargs.pop('data')\n",
    "    d = data.pivot(columns=args[0], index=args[1], values=args[2])\n",
    "    d = d.reindex(index=sorted(d.index)[::-1])\n",
    "    d = d.reindex(columns=sorted(d.columns))\n",
    "    ax = sns.heatmap(d, **kwargs)\n",
    "    w_orig = np.arange(0, 1.1, 0.001)\n",
    "    w = -(w_orig-0.5) + 0.5\n",
    "    c = (24 - 24 * w * w) / (7 - 5 * w)\n",
    "    plt.plot(\n",
    "        (c * 1.3) + 0.5,\n",
    "        (w_orig * 4.55) + 0.5,\n",
    "        c='grey'\n",
    "    )\n",
    "    \n",
    "g = sns.FacetGrid(opt_gb,\n",
    "                  col='benchmark', \n",
    "                  col_wrap=3, \n",
    "                  palette=\"magma\",\n",
    "                  height=5)\n",
    "\n",
    "g.map_dataframe(draw_heatmap, 'c', 'w', 'log_gbest',\n",
    "#                 cbar=False,\n",
    "                annot=True,\n",
    "                yticklabels=True, \n",
    "                xticklabels=True)\n",
    "\n",
    "g.set_titles(\n",
    "    col_template=\"{col_name} ($\\log_{{10}}$ scale)\", \n",
    ")\n",
    "g.set_axis_labels(\"$c=c_1+c_2$\", \"$w$\")\n",
    "# g.fig.subplots_adjust(top=0.85)\n",
    "# g.fig.suptitle('Heatmap of Global Best Fitness values by Control Parameter\\n $\\log_{10}(fitness)$')\n",
    "# plt.tight_layout()\n",
    "plt.savefig('../report/figs/heatmaps.pdf')"
   ]
  },
  {
   "cell_type": "code",
   "execution_count": null,
   "id": "df931fa7",
   "metadata": {},
   "outputs": [],
   "source": []
  },
  {
   "cell_type": "markdown",
   "id": "652ebd1c",
   "metadata": {},
   "source": [
    "## Best fitness value over time"
   ]
  },
  {
   "cell_type": "code",
   "execution_count": null,
   "id": "76bc5168",
   "metadata": {},
   "outputs": [],
   "source": [
    "opt_ot = opt.groupby(['benchmark','w', 'c', 'iter_num']).gbest_fit.mean().reset_index()\n",
    "opt_ot['log_gbest'] = np.log10(opt_ot['gbest_fit'])\n",
    "opt_ot"
   ]
  },
  {
   "cell_type": "code",
   "execution_count": null,
   "id": "da4e9198",
   "metadata": {
    "scrolled": false
   },
   "outputs": [],
   "source": [
    "g = sns.FacetGrid(\n",
    "    data=opt, \n",
    "    col=\"benchmark\",\n",
    "    hue='w',\n",
    "    col_wrap=3,\n",
    "    height=3.5, \n",
    "    aspect=1.5,\n",
    "    sharey=False,\n",
    "    palette=\"magma\"\n",
    ")\n",
    "g.map(\n",
    "    sns.lineplot, \n",
    "    \"iter_num\", \n",
    "    \"perc_oob\",\n",
    "#     units='w',\n",
    "#     estimator=None,\n",
    "    ci=None\n",
    ")\n",
    "g.add_legend()\n",
    "g.set_titles(\n",
    "    col_template=\"{col_name}\", \n",
    "#     row_template=\"{row_name}\"\n",
    ")\n",
    "g.set_axis_labels(\"Iteration Number\", \"Global Best Fitness\")\n",
    "# g.fig.subplots_adjust(top=0.93)\n",
    "# g.fig.suptitle('Global best fitness per function over time')\n",
    "# plt.savefig('../report/figs/gbest_fitness_standard_pso.pdf')"
   ]
  },
  {
   "cell_type": "code",
   "execution_count": null,
   "id": "8bdcc7f6",
   "metadata": {},
   "outputs": [],
   "source": []
  }
 ],
 "metadata": {
  "kernelspec": {
   "display_name": "Python 3 (ipykernel)",
   "language": "python",
   "name": "python3"
  },
  "language_info": {
   "codemirror_mode": {
    "name": "ipython",
    "version": 3
   },
   "file_extension": ".py",
   "mimetype": "text/x-python",
   "name": "python",
   "nbconvert_exporter": "python",
   "pygments_lexer": "ipython3",
   "version": "3.9.10"
  }
 },
 "nbformat": 4,
 "nbformat_minor": 5
}
